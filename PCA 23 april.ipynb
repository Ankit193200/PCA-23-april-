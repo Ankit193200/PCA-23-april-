{
 "cells": [
  {
   "cell_type": "markdown",
   "id": "dba271c8-6054-43e6-b4c1-4887518b4364",
   "metadata": {},
   "source": [
    "# Q1. What is the curse of dimensionality reduction and why is it important in machine learning?\n",
    "Ans: Curse of Dimensionality describes the explosive nature of increasing data dimensions and its resulting exponential increase in computational efforts required for its processing and/or analysis."
   ]
  },
  {
   "cell_type": "markdown",
   "id": "623d5754-a6e2-4da0-82a8-7ad490fa3d15",
   "metadata": {},
   "source": [
    "# Q2 How does the curse of dimensionality impact the performance of machine learning algorithms?\n",
    "Ans: As the dimensionality increases, the number of data points required for good performance of any machine learning algorithm increases exponentially. The reason is that, we would need more number of data points for any given combination of features, for any machine learning model to be valid."
   ]
  },
  {
   "cell_type": "markdown",
   "id": "fc7dd911-cf68-4eb3-94d2-343d71471992",
   "metadata": {},
   "source": [
    "# Q3. What are some of the consequences of the curse of dimensionality in machine learning, and how do\n",
    "they impact model performance?\n",
    "Ans: It decreases the dataset’s dimensions and thus decreases the storage space.\n",
    "It significantly decreases the computation time. This is because less number of dimensions need less computing time, and ultimately the algorithms train faster than before.\n",
    "It improves models’ accuracy."
   ]
  },
  {
   "cell_type": "markdown",
   "id": "7df0865b-4f81-418b-941a-0350ff5b9617",
   "metadata": {},
   "source": [
    "# Q4.Can you explain the concept of feature selection and how it can help with dimensionality reduction?\n",
    "Ans. Often, feature selection and dimensionality reduction are grouped together (like here in this article). While both methods are used for reducing the number of features in a dataset, there is an important difference.\n",
    "\n",
    "Feature selection is simply selecting and excluding given features without changing them.\n",
    "\n",
    "Dimensionality reduction transforms features into a lower dimension.\n",
    "\n",
    "In this article we will explore the following feature selection and dimensionality reduction techniques:\n",
    "\n",
    "Feature Selection\n",
    "Remove features with missing values\n",
    "Remove features with low variance\n",
    "Remove highly correlated features\n",
    "Univariate feature selection\n",
    "Recursive feature elimination\n",
    "Feature selection using SelectFromModel\n",
    "Dimensionality Reduction\n",
    "PCA"
   ]
  },
  {
   "cell_type": "markdown",
   "id": "9501e722-dfe0-44db-bd73-df27ab0ae411",
   "metadata": {},
   "source": [
    "# Q5.What are some limitations and drawbacks of using dimensionality reduction techniques in machinelearning?\n",
    "Ans: Disadvantages of dimentionality reduction:\n",
    "\n",
    "We lost some data during the dimensionality reduction process, which can impact how well future training algorithms work.\n",
    "It may need a lot of processing power.\n",
    "Interpreting transformed characteristics might be challenging."
   ]
  },
  {
   "cell_type": "markdown",
   "id": "351ecc42-e365-4a74-94cd-d4fa5526213f",
   "metadata": {},
   "source": [
    "# Q6: How does the curse of dimensionality relate to overfitting and underfitting in machine learning?\n",
    "Ans: Overfitting and Underfitting\n",
    "There is a relationship between ‘d’ and overfitting which is as follows:\n",
    "\n",
    "‘d’ is directly proportional to overfitting i.e. as the dimensionality increases the chances of overfitting also increases.\n",
    "\n",
    "Let’s discuss the solutions to tackle this problem.\n",
    "\n",
    "a) Model-dependent approach: Whenever we have a large number of features, we can always perform forward feature selection to determine the most relevant features for the prediction.\n",
    "\n",
    "b) Unlike the above solution which is classification-oriented, we can also perform dimensionality reduction techniques like PCA and t-SNE which do not use the class labels to determine the most relevant features for the prediction.\n",
    "\n",
    "So it is important to keep in mind whenever you download a new dataset that has a large number of features, you can reduce it by some of the techniques like PCA, t-SNE, or forward selection in order to ensure your model is not affected by the curse of dimensionality."
   ]
  },
  {
   "cell_type": "code",
   "execution_count": null,
   "id": "177e8d9b-dc86-4063-bb99-a48c74568d6a",
   "metadata": {},
   "outputs": [],
   "source": [
    "#  Q7. How can one determine the optimal number of dimensions to reduce data to when using dimensionality reduction techniques?\n",
    "Ans: "
   ]
  }
 ],
 "metadata": {
  "kernelspec": {
   "display_name": "Python 3 (ipykernel)",
   "language": "python",
   "name": "python3"
  },
  "language_info": {
   "codemirror_mode": {
    "name": "ipython",
    "version": 3
   },
   "file_extension": ".py",
   "mimetype": "text/x-python",
   "name": "python",
   "nbconvert_exporter": "python",
   "pygments_lexer": "ipython3",
   "version": "3.10.8"
  }
 },
 "nbformat": 4,
 "nbformat_minor": 5
}
